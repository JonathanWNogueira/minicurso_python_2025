{
 "cells": [
  {
   "cell_type": "markdown",
   "id": "ea88204a",
   "metadata": {},
   "source": [
    "**Scripts e Jupyter**"
   ]
  },
  {
   "cell_type": "markdown",
   "id": "f1ac15c3",
   "metadata": {},
   "source": [
    "**Entrada e Saída**"
   ]
  },
  {
   "cell_type": "code",
   "execution_count": 1,
   "id": "63c6e791",
   "metadata": {},
   "outputs": [
    {
     "name": "stdout",
     "output_type": "stream",
     "text": [
      "25\n"
     ]
    }
   ],
   "source": [
    "x = int(input(\"Digite um número: \"))\n",
    "\n",
    "print(x + 10)"
   ]
  },
  {
   "cell_type": "markdown",
   "id": "09326952",
   "metadata": {},
   "source": [
    "**Tipos de Dados**"
   ]
  },
  {
   "cell_type": "code",
   "execution_count": 2,
   "id": "c8a595b6",
   "metadata": {},
   "outputs": [
    {
     "data": {
      "text/plain": [
       "dict"
      ]
     },
     "execution_count": 2,
     "metadata": {},
     "output_type": "execute_result"
    }
   ],
   "source": [
    "int\n",
    "float\n",
    "str\n",
    "bool\n",
    "list\n",
    "tuple\n",
    "dict"
   ]
  },
  {
   "cell_type": "markdown",
   "id": "8ceb906e",
   "metadata": {},
   "source": [
    "**Condicionais**"
   ]
  },
  {
   "cell_type": "code",
   "execution_count": 3,
   "id": "2f9f0c8a",
   "metadata": {},
   "outputs": [],
   "source": [
    "if True: x = 1\n",
    "elif False: x = 2\n",
    "else: x = 3"
   ]
  },
  {
   "cell_type": "markdown",
   "id": "c7025e48",
   "metadata": {},
   "source": [
    "**Loops**"
   ]
  },
  {
   "cell_type": "code",
   "execution_count": 4,
   "id": "765b4795",
   "metadata": {},
   "outputs": [
    {
     "name": "stdout",
     "output_type": "stream",
     "text": [
      "0\n",
      "1\n",
      "2\n",
      "3\n",
      "4\n",
      "5\n",
      "6\n",
      "7\n",
      "8\n",
      "9\n",
      "Looping\n",
      "Looping\n",
      "Looping\n",
      "Looping\n",
      "Looping\n",
      "Looping\n",
      "Looping\n",
      "Looping\n",
      "Looping\n",
      "Looping\n",
      "Looping\n",
      "Looping\n",
      "Looping\n",
      "Looping\n",
      "Looping\n"
     ]
    }
   ],
   "source": [
    "for i in range(10):\n",
    "    print(i)\n",
    "\n",
    "while True:\n",
    "    x += 1\n",
    "    print(\"Looping\")\n",
    "    if x > 15: break"
   ]
  },
  {
   "cell_type": "markdown",
   "id": "afbb72f4",
   "metadata": {},
   "source": [
    "**Listas**"
   ]
  },
  {
   "cell_type": "code",
   "execution_count": 5,
   "id": "1a02cb3e",
   "metadata": {},
   "outputs": [
    {
     "name": "stdout",
     "output_type": "stream",
     "text": [
      "[1, 2, 3]\n",
      "4\n"
     ]
    }
   ],
   "source": [
    "lista = [1, 2, 3, 4]\n",
    "\n",
    "x = lista.pop()\n",
    "\n",
    "print(lista)\n",
    "print(x)"
   ]
  },
  {
   "cell_type": "markdown",
   "id": "11d58025",
   "metadata": {},
   "source": [
    "**Tuplas**"
   ]
  },
  {
   "cell_type": "code",
   "execution_count": 6,
   "id": "9579d2cd",
   "metadata": {},
   "outputs": [
    {
     "name": "stdout",
     "output_type": "stream",
     "text": [
      "0\n"
     ]
    }
   ],
   "source": [
    "tupla = (-29, -53.71663040990326)\n",
    "\n",
    "print(tupla.index(-29))\n"
   ]
  },
  {
   "cell_type": "markdown",
   "id": "94d3e7c1",
   "metadata": {},
   "source": [
    "**Dicionários**"
   ]
  },
  {
   "cell_type": "code",
   "execution_count": null,
   "id": "691b584f",
   "metadata": {},
   "outputs": [
    {
     "name": "stdout",
     "output_type": "stream",
     "text": [
      "dict_items([(1, 'Jonathan'), ('idade', 22)])\n"
     ]
    }
   ],
   "source": [
    "dicionario = {1: 'Jonathan', 'idade': 22}\n",
    "print(dicionario.items())"
   ]
  }
 ],
 "metadata": {
  "kernelspec": {
   "display_name": "Python 3",
   "language": "python",
   "name": "python3"
  },
  "language_info": {
   "codemirror_mode": {
    "name": "ipython",
    "version": 3
   },
   "file_extension": ".py",
   "mimetype": "text/x-python",
   "name": "python",
   "nbconvert_exporter": "python",
   "pygments_lexer": "ipython3",
   "version": "3.10.11"
  }
 },
 "nbformat": 4,
 "nbformat_minor": 5
}
