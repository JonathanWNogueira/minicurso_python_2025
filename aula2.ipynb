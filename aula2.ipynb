{
 "cells": [
  {
   "cell_type": "markdown",
   "id": "74c72650",
   "metadata": {},
   "source": [
    "**Tratamento de Erros**"
   ]
  },
  {
   "cell_type": "code",
   "execution_count": 5,
   "id": "ee0aaac2",
   "metadata": {},
   "outputs": [
    {
     "name": "stdout",
     "output_type": "stream",
     "text": [
      "Entrada inválida.\n"
     ]
    }
   ],
   "source": [
    "try:\n",
    "    x = int(input())\n",
    "    print(x)\n",
    "except ValueError:\n",
    "    print(\"Entrada inválida.\")"
   ]
  },
  {
   "cell_type": "markdown",
   "id": "6e2b8b03",
   "metadata": {},
   "source": [
    "**List Comprehension**"
   ]
  },
  {
   "cell_type": "code",
   "execution_count": 13,
   "id": "728754e6",
   "metadata": {},
   "outputs": [
    {
     "name": "stdout",
     "output_type": "stream",
     "text": [
      "{0: 0, 1: 1, 2: 8, 3: 27, 4: 64, 5: 125, 6: 216, 7: 343, 8: 512, 9: 729}\n"
     ]
    }
   ],
   "source": [
    "quadrados = {i: i**3 for i in range(10)}\n",
    "\n",
    "print(quadrados)"
   ]
  },
  {
   "cell_type": "markdown",
   "id": "1fcd8479",
   "metadata": {},
   "source": [
    "**Funções**"
   ]
  },
  {
   "cell_type": "code",
   "execution_count": 18,
   "id": "ec9bbcae",
   "metadata": {},
   "outputs": [
    {
     "name": "stdout",
     "output_type": "stream",
     "text": [
      "[1, 4, 9, 16, 25]\n"
     ]
    }
   ],
   "source": [
    "def soma(x, y = 10):\n",
    "    return x + y\n",
    "\n",
    "f = lambda x: x**2\n",
    "\n",
    "list = [1, 2, 3, 4, 5]\n",
    "\n",
    "list = [f(x) for x in list]\n",
    "\n",
    "print(list)"
   ]
  },
  {
   "cell_type": "markdown",
   "id": "65090b32",
   "metadata": {},
   "source": [
    "**Imports**"
   ]
  },
  {
   "cell_type": "code",
   "execution_count": 26,
   "id": "d68e3a45",
   "metadata": {},
   "outputs": [
    {
     "name": "stdout",
     "output_type": "stream",
     "text": [
      "0.0\n"
     ]
    }
   ],
   "source": [
    "from math import cos, pi\n",
    "\n",
    "print(round(cos(pi/2),15))"
   ]
  }
 ],
 "metadata": {
  "kernelspec": {
   "display_name": "Python 3",
   "language": "python",
   "name": "python3"
  },
  "language_info": {
   "codemirror_mode": {
    "name": "ipython",
    "version": 3
   },
   "file_extension": ".py",
   "mimetype": "text/x-python",
   "name": "python",
   "nbconvert_exporter": "python",
   "pygments_lexer": "ipython3",
   "version": "3.10.11"
  }
 },
 "nbformat": 4,
 "nbformat_minor": 5
}
