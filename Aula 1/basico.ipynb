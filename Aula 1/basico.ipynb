{
 "cells": [
  {
   "cell_type": "markdown",
   "id": "ea88204a",
   "metadata": {},
   "source": [
    "**Scripts e Jupyter**\n",
    "\n",
    "**Interpretado vs Compilado**"
   ]
  },
  {
   "cell_type": "markdown",
   "id": "f1ac15c3",
   "metadata": {},
   "source": [
    "**Entrada e Saída**"
   ]
  },
  {
   "cell_type": "code",
   "execution_count": null,
   "id": "63c6e791",
   "metadata": {},
   "outputs": [],
   "source": [
    "x = input()\n",
    "print(x)"
   ]
  },
  {
   "cell_type": "markdown",
   "id": "09326952",
   "metadata": {},
   "source": [
    "**Tipos de Dados**"
   ]
  },
  {
   "cell_type": "code",
   "execution_count": null,
   "id": "c8a595b6",
   "metadata": {},
   "outputs": [],
   "source": [
    "int\n",
    "float\n",
    "str\n",
    "bool\n",
    "list\n",
    "tuple\n",
    "dict"
   ]
  },
  {
   "cell_type": "markdown",
   "id": "8ceb906e",
   "metadata": {},
   "source": [
    "**Condicionais**"
   ]
  },
  {
   "cell_type": "code",
   "execution_count": null,
   "id": "2f9f0c8a",
   "metadata": {},
   "outputs": [],
   "source": [
    "if True: x = 1\n",
    "elif False: x = 2\n",
    "else: x = 3"
   ]
  },
  {
   "cell_type": "markdown",
   "id": "c7025e48",
   "metadata": {},
   "source": [
    "**Loops**"
   ]
  },
  {
   "cell_type": "code",
   "execution_count": null,
   "id": "765b4795",
   "metadata": {},
   "outputs": [],
   "source": [
    "for i in range(10):\n",
    "    print(i)\n",
    "\n",
    "while True:\n",
    "    x += 1\n",
    "    print(\"Looping\")\n",
    "    if x > 15: break"
   ]
  },
  {
   "cell_type": "markdown",
   "id": "afbb72f4",
   "metadata": {},
   "source": [
    "**Listas**"
   ]
  },
  {
   "cell_type": "code",
   "execution_count": null,
   "id": "1a02cb3e",
   "metadata": {},
   "outputs": [],
   "source": [
    "lista = [1, 2, 3, 4]\n",
    "append()\n",
    "insert()\n",
    "remove()\n",
    "sort()"
   ]
  },
  {
   "cell_type": "markdown",
   "id": "11d58025",
   "metadata": {},
   "source": [
    "**Tuplas**"
   ]
  },
  {
   "cell_type": "code",
   "execution_count": null,
   "id": "9579d2cd",
   "metadata": {},
   "outputs": [],
   "source": [
    "tupla = (-29.713399160431276, -53.71663040990326)\n",
    "index()"
   ]
  },
  {
   "cell_type": "markdown",
   "id": "94d3e7c1",
   "metadata": {},
   "source": [
    "**Dicionários**"
   ]
  },
  {
   "cell_type": "code",
   "execution_count": null,
   "id": "691b584f",
   "metadata": {},
   "outputs": [],
   "source": [
    "dicionario = {'nome': 'Jonathan', 'idade': 22}\n",
    "get()\n",
    "keys()\n",
    "items()"
   ]
  },
  {
   "cell_type": "markdown",
   "id": "ee3c2d0b",
   "metadata": {},
   "source": [
    "**List Comprehension**"
   ]
  },
  {
   "cell_type": "code",
   "execution_count": null,
   "id": "62f90571",
   "metadata": {},
   "outputs": [],
   "source": [
    "quadrados = []\n",
    "for i in range(10): quadrados.append(i * i)\n",
    "\n",
    "quadrados = [i * i for i in range(10)]\n",
    "\n",
    "quadrados = {i: i*i for i in range(5)} "
   ]
  },
  {
   "cell_type": "markdown",
   "id": "a20a6585",
   "metadata": {},
   "source": [
    "**Tratamento de Erros**"
   ]
  },
  {
   "cell_type": "code",
   "execution_count": null,
   "id": "0129cd02",
   "metadata": {},
   "outputs": [],
   "source": [
    "try:\n",
    "    x = int(input())\n",
    "except ValueError:\n",
    "    print(\"Entrada inválida.\")"
   ]
  },
  {
   "cell_type": "markdown",
   "id": "97f67433",
   "metadata": {},
   "source": [
    "**Imports**"
   ]
  },
  {
   "cell_type": "code",
   "execution_count": null,
   "id": "f8ef1b77",
   "metadata": {},
   "outputs": [],
   "source": [
    "import as\n",
    "from import "
   ]
  },
  {
   "cell_type": "markdown",
   "id": "b84b8675",
   "metadata": {},
   "source": [
    "**Funções**"
   ]
  },
  {
   "cell_type": "code",
   "execution_count": null,
   "id": "97613532",
   "metadata": {},
   "outputs": [],
   "source": [
    "def soma(x: int, y: int = 10) -> int:\n",
    "    return x + y\n",
    "\n",
    "soma = lambda x, y: x + y"
   ]
  }
 ],
 "metadata": {
  "kernelspec": {
   "display_name": "Python 3",
   "language": "python",
   "name": "python3"
  },
  "language_info": {
   "codemirror_mode": {
    "name": "ipython",
    "version": 3
   },
   "file_extension": ".py",
   "mimetype": "text/x-python",
   "name": "python",
   "nbconvert_exporter": "python",
   "pygments_lexer": "ipython3",
   "version": "3.10.11"
  }
 },
 "nbformat": 4,
 "nbformat_minor": 5
}
