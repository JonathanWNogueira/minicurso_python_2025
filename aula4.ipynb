{
 "cells": [
  {
   "cell_type": "markdown",
   "id": "496bbd31",
   "metadata": {},
   "source": [
    "# 📊 Avaliação Final do Minicurso de Python\n",
    "\n",
    "## Objetivo\n",
    "Esta avaliação tem como finalidade verificar o conhecimento adquirido durante o minicurso.\n",
    "\n",
    "## Instruções\n",
    "1. Resolva **todas as 3 questões** propostas.\n",
    "2. Utilize **funções** para estruturar o código de cada exercício.\n",
    "3. Sempre que necessário, utilize as bibliotecas `numpy` e `matplotlib`.\n",
    "4. Os gráficos devem conter **título**, **legenda** e **rótulos nos eixos**.\n",
    "5. Entregue o arquivo `.py` ou `.ipynb` com todas as respostas comentadas.\n",
    "\n",
    "## Critérios de Avaliação\n",
    "- **Clareza e organização** do código.\n",
    "- **Correta implementação** das funções solicitadas.\n",
    "- **Uso adequado** das bibliotecas.\n",
    "- **Apresentação gráfica** (quando aplicável).\n",
    "- **Comentário e explicação** das etapas do código.\n",
    "\n",
    "---\n",
    "\n",
    "Envie para o email `jwnogueira@inf.ufsm.br` até o dia 18/08, os alunos que entregarem a atividade e possuírem pelo menos 50% de presença receberão o certificado."
   ]
  },
  {
   "cell_type": "markdown",
   "id": "cf7e7dd1",
   "metadata": {},
   "source": [
    "## 1️⃣ Geração e Manipulação de Dados\n",
    "Crie uma função `gera_dados(n)` que:\n",
    "- Recebe `n`, a quantidade de valores.\n",
    "- Gera um array com `n` números aleatórios entre 0 e 100 usando NumPy.\n",
    "- Retorna o array ordenado.\n",
    "\n",
    "> **Desafio extra:** Retorne também a média, mínimo e máximo."
   ]
  },
  {
   "cell_type": "markdown",
   "id": "819df2a7",
   "metadata": {},
   "source": [
    "## 2️⃣ Função de Análise de Notas\n",
    "Escreva uma função `analisa_notas(notas)` que:\n",
    "- Recebe uma lista de notas.\n",
    "- Retorna a quantidade de alunos aprovados (nota ≥ 7) e reprovados.\n",
    "- Use NumPy para facilitar cálculos.\n",
    "\n",
    "> **Desafio extra:** Plote um histograma das notas usando `plt.hist`."
   ]
  },
  {
   "cell_type": "markdown",
   "id": "c97ad30a",
   "metadata": {},
   "source": [
    "## 3️⃣ Gráfico de Função Matemática\n",
    "Crie uma função `grafico_seno()` que:\n",
    "- Gere um array `x` de -2π até 2π (passo de 0.1) usando `np.linspace`.\n",
    "- Calcule `y = np.sin(x)`.\n",
    "- Plote a curva com título, legenda e rótulos de eixos.\n",
    "\n",
    "> **Desafio extra:** Adicione também a curva do cosseno no mesmo gráfico."
   ]
  }
 ],
 "metadata": {
  "language_info": {
   "name": "python"
  }
 },
 "nbformat": 4,
 "nbformat_minor": 5
}
